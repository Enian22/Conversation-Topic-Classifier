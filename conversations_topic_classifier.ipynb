{
 "cells": [
  {
   "cell_type": "markdown",
   "metadata": {
    "id": "CGe_jgsGQmiZ"
   },
   "source": [
    "# Tag Conversations\n",
    "Given a text transcript of a conversation between two people, we want to assign it a topic that they were most likely talking about."
   ]
  },
  {
   "cell_type": "markdown",
   "metadata": {
    "id": "JvMjzwSGRt7X"
   },
   "source": [
    "### Importing Libraries"
   ]
  },
  {
   "cell_type": "code",
   "execution_count": 1,
   "metadata": {
    "id": "tiu_YrLn6eyp"
   },
   "outputs": [],
   "source": [
    "import os\n",
    "import io\n",
    "import re\n",
    "import glob\n",
    "import numpy as np\n",
    "import pandas as pd\n",
    "import pickle\n",
    "\n",
    "import tensorflow as tf\n",
    "\n",
    "from sklearn.preprocessing import LabelEncoder\n",
    "from sklearn.model_selection import train_test_split\n",
    "\n",
    "from tensorflow.keras.preprocessing.text import Tokenizer\n",
    "from tensorflow.keras.preprocessing.sequence import pad_sequences\n",
    "from tensorflow.keras.optimizers import Adam"
   ]
  },
  {
   "cell_type": "markdown",
   "metadata": {},
   "source": [
    "Callback class is created to stop training of model at desired accuracy"
   ]
  },
  {
   "cell_type": "code",
   "execution_count": 2,
   "metadata": {
    "id": "DFzFUuZR5Z1X"
   },
   "outputs": [],
   "source": [
    "class Endtrain(tf.keras.callbacks.Callback):\n",
    "  \"\"\"\n",
    "  Model stops training when accuracy reaches 99.5% \n",
    "  \"\"\"\n",
    "  def on_epoch_end(self, epoch, logs={}):\n",
    "    if (logs.get('accuracy')>0.995):\n",
    "      self.model.stop_training = True\n"
   ]
  },
  {
   "cell_type": "markdown",
   "metadata": {},
   "source": [
    "### Data Extraction from Transcription .txt file\n",
    "For each given file, the entire converation is extracted as a single string conversation by removing time, few stop words such SILENCE, NOISE.Finally it's converted into a dataframe with a conversation ID and with it's associated label."
   ]
  },
  {
   "cell_type": "code",
   "execution_count": 3,
   "metadata": {},
   "outputs": [],
   "source": [
    "def sentences(texts):\n",
    "    \n",
    "    pattern = '.*([0-9]\\.[0-9]+)'                                              #removes time from conversations\n",
    "    conversations = list(set([re.sub(pattern, '', i) for i in texts]))\n",
    "    pattern1 = '\\n'                                                        #removes whitespaces from conversations\n",
    "    conversations = list(set([re.sub(pattern1, '', i) for i in conversations]))\n",
    "    conversations = ''.join(conversations)\n",
    "    conversations = conversations.replace(' [noise] ',' ')\n",
    "    conversations = conversations.replace(' [silence] ',' ')\n",
    "    return conversations\n",
    "\n",
    "work_dir = \"/home/enian/Desktop/IDFY/tagging_test/\"\n",
    "contents = {}\n",
    "    \n",
    "for path in glob.glob(os.path.join(work_dir, \"*.txt\")):\n",
    "    with io.open(path, mode=\"r\", encoding=\"utf-8\") as fd:\n",
    "        contents[''.join(filter(str.isdigit, path))] = sentences(fd.readlines())\n",
    "            \n",
    "contents = {k: v for k, v in sorted(contents.items())}\n",
    "dataset = pd.DataFrame(contents.items(), columns=['Conversation_ID', 'Conversation'])\n",
    "\n",
    "label = pd.read_csv(\"/home/enian/Desktop/IDFY/tagging_test/metadata/dataset.csv\", index_col=False)\n",
    "dataset['Label'] = label['Label'].values  "
   ]
  },
  {
   "cell_type": "markdown",
   "metadata": {
    "id": "lZnHK3W2QX3T"
   },
   "source": [
    "### Loading Dataset\n",
    "Out of 240 text blobs, 230 text blobs are used to train/validate the model and 10 text blobs are used to test the model.  "
   ]
  },
  {
   "cell_type": "code",
   "execution_count": 4,
   "metadata": {
    "colab": {
     "base_uri": "https://localhost:8080/",
     "height": 204
    },
    "id": "W7C9I5g3CQin",
    "outputId": "b80d7143-9d17-43bf-b75d-a85202e6f419"
   },
   "outputs": [
    {
     "data": {
      "text/html": [
       "<div>\n",
       "<style scoped>\n",
       "    .dataframe tbody tr th:only-of-type {\n",
       "        vertical-align: middle;\n",
       "    }\n",
       "\n",
       "    .dataframe tbody tr th {\n",
       "        vertical-align: top;\n",
       "    }\n",
       "\n",
       "    .dataframe thead th {\n",
       "        text-align: right;\n",
       "    }\n",
       "</style>\n",
       "<table border=\"1\" class=\"dataframe\">\n",
       "  <thead>\n",
       "    <tr style=\"text-align: right;\">\n",
       "      <th></th>\n",
       "      <th>Conversation_ID</th>\n",
       "      <th>Conversation</th>\n",
       "      <th>Label</th>\n",
       "    </tr>\n",
       "  </thead>\n",
       "  <tbody>\n",
       "    <tr>\n",
       "      <th>0</th>\n",
       "      <td>2023</td>\n",
       "      <td>that's hard yeah you know uh is he going to y...</td>\n",
       "      <td>Credit Card</td>\n",
       "    </tr>\n",
       "    <tr>\n",
       "      <th>1</th>\n",
       "      <td>2061</td>\n",
       "      <td>and uh you know unless the Navy funds it i pr...</td>\n",
       "      <td>Credit Card</td>\n",
       "    </tr>\n",
       "    <tr>\n",
       "      <th>2</th>\n",
       "      <td>2092</td>\n",
       "      <td>are a[re]- are you working anywhere while you...</td>\n",
       "      <td>Family Finance</td>\n",
       "    </tr>\n",
       "    <tr>\n",
       "      <th>3</th>\n",
       "      <td>2129</td>\n",
       "      <td>so anyway uh uh you know on no what is that u...</td>\n",
       "      <td>Job Benefits</td>\n",
       "    </tr>\n",
       "    <tr>\n",
       "      <th>4</th>\n",
       "      <td>2163</td>\n",
       "      <td>yeah that's one way to do it because that tha...</td>\n",
       "      <td>Credit Card</td>\n",
       "    </tr>\n",
       "  </tbody>\n",
       "</table>\n",
       "</div>"
      ],
      "text/plain": [
       "  Conversation_ID                                       Conversation  \\\n",
       "0            2023   that's hard yeah you know uh is he going to y...   \n",
       "1            2061   and uh you know unless the Navy funds it i pr...   \n",
       "2            2092   are a[re]- are you working anywhere while you...   \n",
       "3            2129   so anyway uh uh you know on no what is that u...   \n",
       "4            2163   yeah that's one way to do it because that tha...   \n",
       "\n",
       "            Label  \n",
       "0     Credit Card  \n",
       "1     Credit Card  \n",
       "2  Family Finance  \n",
       "3    Job Benefits  \n",
       "4     Credit Card  "
      ]
     },
     "execution_count": 4,
     "metadata": {},
     "output_type": "execute_result"
    }
   ],
   "source": [
    "dataset.head()"
   ]
  },
  {
   "cell_type": "markdown",
   "metadata": {
    "id": "1_j1g9Y4R-UB"
   },
   "source": [
    "### Assigning Feature and Label sets"
   ]
  },
  {
   "cell_type": "code",
   "execution_count": 5,
   "metadata": {
    "id": "jr8FNCwlFmQL"
   },
   "outputs": [],
   "source": [
    "X = dataset['Conversation']\n",
    "y = dataset['Label']"
   ]
  },
  {
   "cell_type": "markdown",
   "metadata": {
    "id": "6pt8CIJRSNVr"
   },
   "source": [
    "### Transforming label set with LabelEncoder\n",
    "LabelEncoder() assigns a integer value for each label after sorting them. \n",
    "- 0 - Bank Bailout\n",
    "- 1 - Budget\n",
    "- 2 - Credit Card\n",
    "- 3 - Family Finance\n",
    "- 4 - Job Benefits\n",
    "- 5 - Taxes  "
   ]
  },
  {
   "cell_type": "code",
   "execution_count": 6,
   "metadata": {
    "colab": {
     "base_uri": "https://localhost:8080/"
    },
    "id": "3VgNu73TAuvC",
    "outputId": "5396bda6-a5c1-420c-c82c-ce0c71613499"
   },
   "outputs": [
    {
     "data": {
      "text/plain": [
       "array([2, 2, 3, 4, 2, 0, 5, 1, 3, 4, 5, 1, 4, 3, 4, 3, 2, 3, 5, 2, 5, 3,\n",
       "       4, 2, 2, 2, 3, 5, 2, 0, 3, 0, 1, 3, 3, 1, 2, 0, 4, 5, 2, 5, 2, 3,\n",
       "       4, 1, 2, 2, 4, 3, 4, 2, 0, 3, 5, 1, 1, 5, 2, 3, 5, 5, 2, 3, 4, 4,\n",
       "       4, 5, 5, 2, 5, 4, 1, 2, 4, 2, 2, 1, 2, 5, 3, 3, 3, 4, 4, 1, 5, 2,\n",
       "       5, 3, 2, 3, 3, 1, 2, 1, 2, 3, 4, 5, 2, 3, 5, 2, 1, 5, 5, 2, 4, 4,\n",
       "       5, 1, 2, 2, 4, 2, 5, 3, 3, 3, 2, 3, 5, 3, 4, 1, 2, 2, 5, 4, 4, 2,\n",
       "       5, 3, 2, 4, 2, 2, 1, 1, 5, 4, 5, 3, 4, 5, 1, 4, 1, 4, 3, 3, 4, 5,\n",
       "       3, 5, 5, 3, 4, 3, 5, 4, 3, 3, 4, 4, 5, 4, 3, 5, 5, 3, 5, 3, 3, 3,\n",
       "       4, 4, 5, 5, 3, 5, 5, 5, 3, 3, 4, 5, 4, 3, 4, 4, 3, 5, 1, 4, 5, 3,\n",
       "       5, 4, 3, 3, 5, 3, 3, 1, 3, 3, 3, 3, 4, 4, 4, 4, 3, 5, 3, 5, 4, 4,\n",
       "       4, 5, 3, 3, 4, 4, 5, 5, 3, 4])"
      ]
     },
     "execution_count": 6,
     "metadata": {},
     "output_type": "execute_result"
    }
   ],
   "source": [
    "le = LabelEncoder()\n",
    "y = le.fit_transform(y)\n",
    "y"
   ]
  },
  {
   "cell_type": "markdown",
   "metadata": {
    "id": "UDZgIqOoTuhV"
   },
   "source": [
    "### Splitting the train and testing sets"
   ]
  },
  {
   "cell_type": "code",
   "execution_count": 7,
   "metadata": {
    "id": "oh18iOZxGnNe"
   },
   "outputs": [],
   "source": [
    "training_sentences, testing_sentences, training_labels, testing_labels = train_test_split(X, y, test_size=0.2, random_state=42)"
   ]
  },
  {
   "cell_type": "markdown",
   "metadata": {
    "id": "-iU7OnZ3UKvT"
   },
   "source": [
    "### Model Training Parameters "
   ]
  },
  {
   "cell_type": "code",
   "execution_count": 8,
   "metadata": {
    "id": "kfYLYyVN_w1Y"
   },
   "outputs": [],
   "source": [
    "vocab_size = 10000\n",
    "embedding_dim = 32\n",
    "max_length = 1500\n",
    "trunc_type='post'\n",
    "padding_type='post'\n",
    "oov_tok = \"<OOV>\"\n",
    "num_epochs = 150\n",
    "callback = Endtrain()"
   ]
  },
  {
   "cell_type": "markdown",
   "metadata": {
    "id": "F1OgovlCVXDG"
   },
   "source": [
    "### Data Pre-processing for the model"
   ]
  },
  {
   "cell_type": "code",
   "execution_count": 9,
   "metadata": {
    "id": "RpSDJxtg_7kI"
   },
   "outputs": [],
   "source": [
    "tokenizer = Tokenizer(num_words=vocab_size, oov_token=oov_tok) # creates tokens for each word\n",
    "tokenizer.fit_on_texts(training_sentences)\n",
    "\n",
    "word_index = tokenizer.word_index\n",
    "\n",
    "training_sequences = tokenizer.texts_to_sequences(training_sentences) # creates a set of tokens\n",
    "training_padded = pad_sequences(training_sequences, maxlen=max_length, padding=padding_type, truncating=trunc_type) # maintains uniformity in size\n",
    "\n",
    "testing_sequences = tokenizer.texts_to_sequences(testing_sentences) \n",
    "testing_padded = pad_sequences(testing_sequences, maxlen=max_length, padding=padding_type, truncating=trunc_type)"
   ]
  },
  {
   "cell_type": "code",
   "execution_count": 10,
   "metadata": {
    "id": "kd93lk4zEPSB"
   },
   "outputs": [],
   "source": [
    "# Need this block to get it to work with TensorFlow 2.x\n",
    "training_padded = np.array(training_padded)\n",
    "training_labels = np.array(training_labels)\n",
    "testing_padded = np.array(testing_padded)\n",
    "testing_labels = np.array(testing_labels)"
   ]
  },
  {
   "cell_type": "markdown",
   "metadata": {
    "id": "OVeSA49wVo5x"
   },
   "source": [
    "### Model"
   ]
  },
  {
   "cell_type": "code",
   "execution_count": 11,
   "metadata": {
    "id": "8k75t-gNooPe"
   },
   "outputs": [],
   "source": [
    "model = tf.keras.Sequential([\n",
    "    tf.keras.layers.Embedding(vocab_size, embedding_dim, input_length=max_length), \n",
    "    tf.keras.layers.GlobalAveragePooling1D(),\n",
    "    tf.keras.layers.Dense(16, activation='relu'),\n",
    "    tf.keras.layers.Dense(6, activation='softmax')\n",
    "])\n",
    "model.compile(loss='sparse_categorical_crossentropy',optimizer='adam',metrics=['accuracy'])"
   ]
  },
  {
   "cell_type": "markdown",
   "metadata": {
    "id": "fDeUq6XeWsCf"
   },
   "source": [
    "### Model Training"
   ]
  },
  {
   "cell_type": "code",
   "execution_count": 12,
   "metadata": {
    "colab": {
     "base_uri": "https://localhost:8080/"
    },
    "id": "-pindHeBonmb",
    "outputId": "b134dd5d-c811-4bd1-c2c9-7f3ab29d508c"
   },
   "outputs": [
    {
     "name": "stdout",
     "output_type": "stream",
     "text": [
      "Epoch 1/150\n",
      "6/6 - 2s - loss: 1.7878 - accuracy: 0.2500 - val_loss: 1.7895 - val_accuracy: 0.0870\n",
      "Epoch 2/150\n",
      "6/6 - 0s - loss: 1.7777 - accuracy: 0.2609 - val_loss: 1.7839 - val_accuracy: 0.0870\n",
      "Epoch 3/150\n",
      "6/6 - 0s - loss: 1.7689 - accuracy: 0.2609 - val_loss: 1.7790 - val_accuracy: 0.0870\n",
      "Epoch 4/150\n",
      "6/6 - 0s - loss: 1.7594 - accuracy: 0.2609 - val_loss: 1.7746 - val_accuracy: 0.0870\n",
      "Epoch 5/150\n",
      "6/6 - 0s - loss: 1.7481 - accuracy: 0.2609 - val_loss: 1.7688 - val_accuracy: 0.0870\n",
      "Epoch 6/150\n",
      "6/6 - 0s - loss: 1.7391 - accuracy: 0.2609 - val_loss: 1.7633 - val_accuracy: 0.0870\n",
      "Epoch 7/150\n",
      "6/6 - 0s - loss: 1.7274 - accuracy: 0.2609 - val_loss: 1.7569 - val_accuracy: 0.0870\n",
      "Epoch 8/150\n",
      "6/6 - 0s - loss: 1.7161 - accuracy: 0.2609 - val_loss: 1.7517 - val_accuracy: 0.0870\n",
      "Epoch 9/150\n",
      "6/6 - 0s - loss: 1.7039 - accuracy: 0.2609 - val_loss: 1.7459 - val_accuracy: 0.0870\n",
      "Epoch 10/150\n",
      "6/6 - 0s - loss: 1.6926 - accuracy: 0.2609 - val_loss: 1.7401 - val_accuracy: 0.0870\n",
      "Epoch 11/150\n",
      "6/6 - 0s - loss: 1.6802 - accuracy: 0.2609 - val_loss: 1.7348 - val_accuracy: 0.0870\n",
      "Epoch 12/150\n",
      "6/6 - 0s - loss: 1.6688 - accuracy: 0.2609 - val_loss: 1.7301 - val_accuracy: 0.0870\n",
      "Epoch 13/150\n",
      "6/6 - 0s - loss: 1.6558 - accuracy: 0.2663 - val_loss: 1.7217 - val_accuracy: 0.0870\n",
      "Epoch 14/150\n",
      "6/6 - 0s - loss: 1.6434 - accuracy: 0.2663 - val_loss: 1.7142 - val_accuracy: 0.0870\n",
      "Epoch 15/150\n",
      "6/6 - 0s - loss: 1.6321 - accuracy: 0.2772 - val_loss: 1.7086 - val_accuracy: 0.0870\n",
      "Epoch 16/150\n",
      "6/6 - 0s - loss: 1.6200 - accuracy: 0.2880 - val_loss: 1.7005 - val_accuracy: 0.0870\n",
      "Epoch 17/150\n",
      "6/6 - 0s - loss: 1.6090 - accuracy: 0.3152 - val_loss: 1.6951 - val_accuracy: 0.0870\n",
      "Epoch 18/150\n",
      "6/6 - 0s - loss: 1.5975 - accuracy: 0.3370 - val_loss: 1.6877 - val_accuracy: 0.0870\n",
      "Epoch 19/150\n",
      "6/6 - 0s - loss: 1.5861 - accuracy: 0.3913 - val_loss: 1.6807 - val_accuracy: 0.0870\n",
      "Epoch 20/150\n",
      "6/6 - 0s - loss: 1.5758 - accuracy: 0.4511 - val_loss: 1.6759 - val_accuracy: 0.0870\n",
      "Epoch 21/150\n",
      "6/6 - 0s - loss: 1.5638 - accuracy: 0.4620 - val_loss: 1.6671 - val_accuracy: 0.1522\n",
      "Epoch 22/150\n",
      "6/6 - 0s - loss: 1.5525 - accuracy: 0.5109 - val_loss: 1.6583 - val_accuracy: 0.1957\n",
      "Epoch 23/150\n",
      "6/6 - 0s - loss: 1.5405 - accuracy: 0.5543 - val_loss: 1.6512 - val_accuracy: 0.2609\n",
      "Epoch 24/150\n",
      "6/6 - 0s - loss: 1.5283 - accuracy: 0.5924 - val_loss: 1.6398 - val_accuracy: 0.3043\n",
      "Epoch 25/150\n",
      "6/6 - 0s - loss: 1.5163 - accuracy: 0.6413 - val_loss: 1.6281 - val_accuracy: 0.3478\n",
      "Epoch 26/150\n",
      "6/6 - 0s - loss: 1.5026 - accuracy: 0.6685 - val_loss: 1.6207 - val_accuracy: 0.3696\n",
      "Epoch 27/150\n",
      "6/6 - 0s - loss: 1.4897 - accuracy: 0.6576 - val_loss: 1.6149 - val_accuracy: 0.3261\n",
      "Epoch 28/150\n",
      "6/6 - 0s - loss: 1.4753 - accuracy: 0.6467 - val_loss: 1.6066 - val_accuracy: 0.3478\n",
      "Epoch 29/150\n",
      "6/6 - 0s - loss: 1.4608 - accuracy: 0.6522 - val_loss: 1.5951 - val_accuracy: 0.3696\n",
      "Epoch 30/150\n",
      "6/6 - 0s - loss: 1.4452 - accuracy: 0.6848 - val_loss: 1.5850 - val_accuracy: 0.3696\n",
      "Epoch 31/150\n",
      "6/6 - 0s - loss: 1.4296 - accuracy: 0.6848 - val_loss: 1.5773 - val_accuracy: 0.3696\n",
      "Epoch 32/150\n",
      "6/6 - 0s - loss: 1.4128 - accuracy: 0.6848 - val_loss: 1.5647 - val_accuracy: 0.4130\n",
      "Epoch 33/150\n",
      "6/6 - 0s - loss: 1.3955 - accuracy: 0.7011 - val_loss: 1.5523 - val_accuracy: 0.4565\n",
      "Epoch 34/150\n",
      "6/6 - 0s - loss: 1.3784 - accuracy: 0.7120 - val_loss: 1.5358 - val_accuracy: 0.5000\n",
      "Epoch 35/150\n",
      "6/6 - 0s - loss: 1.3594 - accuracy: 0.7228 - val_loss: 1.5248 - val_accuracy: 0.5000\n",
      "Epoch 36/150\n",
      "6/6 - 0s - loss: 1.3402 - accuracy: 0.7228 - val_loss: 1.5172 - val_accuracy: 0.4783\n",
      "Epoch 37/150\n",
      "6/6 - 0s - loss: 1.3205 - accuracy: 0.7120 - val_loss: 1.5064 - val_accuracy: 0.4565\n",
      "Epoch 38/150\n",
      "6/6 - 0s - loss: 1.3006 - accuracy: 0.7120 - val_loss: 1.4947 - val_accuracy: 0.4565\n",
      "Epoch 39/150\n",
      "6/6 - 0s - loss: 1.2804 - accuracy: 0.7174 - val_loss: 1.4793 - val_accuracy: 0.5000\n",
      "Epoch 40/150\n",
      "6/6 - 0s - loss: 1.2591 - accuracy: 0.7228 - val_loss: 1.4638 - val_accuracy: 0.5435\n",
      "Epoch 41/150\n",
      "6/6 - 0s - loss: 1.2365 - accuracy: 0.7337 - val_loss: 1.4472 - val_accuracy: 0.5652\n",
      "Epoch 42/150\n",
      "6/6 - 0s - loss: 1.2143 - accuracy: 0.7500 - val_loss: 1.4293 - val_accuracy: 0.5652\n",
      "Epoch 43/150\n",
      "6/6 - 0s - loss: 1.1910 - accuracy: 0.7500 - val_loss: 1.4170 - val_accuracy: 0.5652\n",
      "Epoch 44/150\n",
      "6/6 - 0s - loss: 1.1680 - accuracy: 0.7609 - val_loss: 1.4073 - val_accuracy: 0.5652\n",
      "Epoch 45/150\n",
      "6/6 - 0s - loss: 1.1438 - accuracy: 0.7609 - val_loss: 1.3899 - val_accuracy: 0.5652\n",
      "Epoch 46/150\n",
      "6/6 - 0s - loss: 1.1203 - accuracy: 0.7609 - val_loss: 1.3746 - val_accuracy: 0.5652\n",
      "Epoch 47/150\n",
      "6/6 - 0s - loss: 1.0961 - accuracy: 0.7826 - val_loss: 1.3548 - val_accuracy: 0.6087\n",
      "Epoch 48/150\n",
      "6/6 - 0s - loss: 1.0723 - accuracy: 0.7826 - val_loss: 1.3349 - val_accuracy: 0.6522\n",
      "Epoch 49/150\n",
      "6/6 - 0s - loss: 1.0486 - accuracy: 0.7826 - val_loss: 1.3105 - val_accuracy: 0.6522\n",
      "Epoch 50/150\n",
      "6/6 - 0s - loss: 1.0242 - accuracy: 0.7880 - val_loss: 1.2954 - val_accuracy: 0.6739\n",
      "Epoch 51/150\n",
      "6/6 - 0s - loss: 0.9997 - accuracy: 0.7935 - val_loss: 1.2804 - val_accuracy: 0.6739\n",
      "Epoch 52/150\n",
      "6/6 - 0s - loss: 0.9759 - accuracy: 0.7935 - val_loss: 1.2663 - val_accuracy: 0.6739\n",
      "Epoch 53/150\n",
      "6/6 - 0s - loss: 0.9522 - accuracy: 0.7935 - val_loss: 1.2474 - val_accuracy: 0.6957\n",
      "Epoch 54/150\n",
      "6/6 - 0s - loss: 0.9279 - accuracy: 0.7935 - val_loss: 1.2293 - val_accuracy: 0.7174\n",
      "Epoch 55/150\n",
      "6/6 - 0s - loss: 0.9049 - accuracy: 0.7935 - val_loss: 1.2144 - val_accuracy: 0.7174\n",
      "Epoch 56/150\n",
      "6/6 - 0s - loss: 0.8815 - accuracy: 0.7989 - val_loss: 1.1909 - val_accuracy: 0.7174\n",
      "Epoch 57/150\n",
      "6/6 - 0s - loss: 0.8585 - accuracy: 0.7989 - val_loss: 1.1736 - val_accuracy: 0.7174\n",
      "Epoch 58/150\n",
      "6/6 - 0s - loss: 0.8351 - accuracy: 0.7989 - val_loss: 1.1553 - val_accuracy: 0.7174\n",
      "Epoch 59/150\n",
      "6/6 - 0s - loss: 0.8110 - accuracy: 0.7989 - val_loss: 1.1384 - val_accuracy: 0.7174\n",
      "Epoch 60/150\n",
      "6/6 - 0s - loss: 0.7880 - accuracy: 0.8207 - val_loss: 1.1197 - val_accuracy: 0.7174\n",
      "Epoch 61/150\n",
      "6/6 - 0s - loss: 0.7651 - accuracy: 0.8261 - val_loss: 1.0964 - val_accuracy: 0.7174\n",
      "Epoch 62/150\n",
      "6/6 - 0s - loss: 0.7430 - accuracy: 0.8315 - val_loss: 1.0719 - val_accuracy: 0.7391\n",
      "Epoch 63/150\n",
      "6/6 - 0s - loss: 0.7213 - accuracy: 0.8424 - val_loss: 1.0543 - val_accuracy: 0.7391\n",
      "Epoch 64/150\n",
      "6/6 - 0s - loss: 0.7002 - accuracy: 0.8478 - val_loss: 1.0414 - val_accuracy: 0.7391\n",
      "Epoch 65/150\n",
      "6/6 - 0s - loss: 0.6797 - accuracy: 0.8533 - val_loss: 1.0235 - val_accuracy: 0.7391\n",
      "Epoch 66/150\n",
      "6/6 - 0s - loss: 0.6589 - accuracy: 0.8587 - val_loss: 1.0062 - val_accuracy: 0.7391\n",
      "Epoch 67/150\n",
      "6/6 - 0s - loss: 0.6393 - accuracy: 0.8587 - val_loss: 0.9856 - val_accuracy: 0.7391\n",
      "Epoch 68/150\n",
      "6/6 - 0s - loss: 0.6201 - accuracy: 0.8641 - val_loss: 0.9665 - val_accuracy: 0.7391\n",
      "Epoch 69/150\n",
      "6/6 - 0s - loss: 0.6017 - accuracy: 0.8641 - val_loss: 0.9524 - val_accuracy: 0.7391\n",
      "Epoch 70/150\n",
      "6/6 - 0s - loss: 0.5832 - accuracy: 0.8696 - val_loss: 0.9332 - val_accuracy: 0.7391\n",
      "Epoch 71/150\n",
      "6/6 - 0s - loss: 0.5655 - accuracy: 0.8750 - val_loss: 0.9152 - val_accuracy: 0.7609\n",
      "Epoch 72/150\n",
      "6/6 - 0s - loss: 0.5484 - accuracy: 0.8804 - val_loss: 0.8978 - val_accuracy: 0.7609\n",
      "Epoch 73/150\n",
      "6/6 - 0s - loss: 0.5315 - accuracy: 0.8804 - val_loss: 0.8825 - val_accuracy: 0.7826\n",
      "Epoch 74/150\n",
      "6/6 - 0s - loss: 0.5154 - accuracy: 0.9022 - val_loss: 0.8621 - val_accuracy: 0.8043\n",
      "Epoch 75/150\n",
      "6/6 - 0s - loss: 0.4990 - accuracy: 0.9022 - val_loss: 0.8470 - val_accuracy: 0.8043\n",
      "Epoch 76/150\n",
      "6/6 - 0s - loss: 0.4836 - accuracy: 0.9022 - val_loss: 0.8310 - val_accuracy: 0.8043\n",
      "Epoch 77/150\n",
      "6/6 - 0s - loss: 0.4688 - accuracy: 0.9130 - val_loss: 0.8171 - val_accuracy: 0.8261\n",
      "Epoch 78/150\n",
      "6/6 - 0s - loss: 0.4546 - accuracy: 0.9130 - val_loss: 0.8019 - val_accuracy: 0.8478\n",
      "Epoch 79/150\n",
      "6/6 - 0s - loss: 0.4402 - accuracy: 0.9130 - val_loss: 0.7894 - val_accuracy: 0.8696\n",
      "Epoch 80/150\n",
      "6/6 - 0s - loss: 0.4267 - accuracy: 0.9130 - val_loss: 0.7686 - val_accuracy: 0.8696\n",
      "Epoch 81/150\n",
      "6/6 - 0s - loss: 0.4130 - accuracy: 0.9293 - val_loss: 0.7541 - val_accuracy: 0.8696\n",
      "Epoch 82/150\n",
      "6/6 - 0s - loss: 0.3998 - accuracy: 0.9293 - val_loss: 0.7471 - val_accuracy: 0.8696\n",
      "Epoch 83/150\n",
      "6/6 - 0s - loss: 0.3875 - accuracy: 0.9293 - val_loss: 0.7375 - val_accuracy: 0.8696\n",
      "Epoch 84/150\n",
      "6/6 - 0s - loss: 0.3757 - accuracy: 0.9402 - val_loss: 0.7246 - val_accuracy: 0.8696\n"
     ]
    },
    {
     "name": "stdout",
     "output_type": "stream",
     "text": [
      "Epoch 85/150\n",
      "6/6 - 0s - loss: 0.3641 - accuracy: 0.9511 - val_loss: 0.7075 - val_accuracy: 0.8696\n",
      "Epoch 86/150\n",
      "6/6 - 0s - loss: 0.3531 - accuracy: 0.9511 - val_loss: 0.7001 - val_accuracy: 0.8696\n",
      "Epoch 87/150\n",
      "6/6 - 0s - loss: 0.3420 - accuracy: 0.9511 - val_loss: 0.6808 - val_accuracy: 0.8696\n",
      "Epoch 88/150\n",
      "6/6 - 0s - loss: 0.3311 - accuracy: 0.9511 - val_loss: 0.6724 - val_accuracy: 0.8696\n",
      "Epoch 89/150\n",
      "6/6 - 0s - loss: 0.3210 - accuracy: 0.9511 - val_loss: 0.6659 - val_accuracy: 0.8696\n",
      "Epoch 90/150\n",
      "6/6 - 0s - loss: 0.3109 - accuracy: 0.9511 - val_loss: 0.6547 - val_accuracy: 0.8696\n",
      "Epoch 91/150\n",
      "6/6 - 0s - loss: 0.3021 - accuracy: 0.9511 - val_loss: 0.6405 - val_accuracy: 0.8696\n",
      "Epoch 92/150\n",
      "6/6 - 0s - loss: 0.2925 - accuracy: 0.9511 - val_loss: 0.6326 - val_accuracy: 0.8696\n",
      "Epoch 93/150\n",
      "6/6 - 0s - loss: 0.2839 - accuracy: 0.9511 - val_loss: 0.6273 - val_accuracy: 0.8696\n",
      "Epoch 94/150\n",
      "6/6 - 0s - loss: 0.2753 - accuracy: 0.9620 - val_loss: 0.6181 - val_accuracy: 0.8696\n",
      "Epoch 95/150\n",
      "6/6 - 0s - loss: 0.2673 - accuracy: 0.9674 - val_loss: 0.6082 - val_accuracy: 0.8696\n",
      "Epoch 96/150\n",
      "6/6 - 0s - loss: 0.2595 - accuracy: 0.9674 - val_loss: 0.5981 - val_accuracy: 0.8696\n",
      "Epoch 97/150\n",
      "6/6 - 0s - loss: 0.2521 - accuracy: 0.9674 - val_loss: 0.5879 - val_accuracy: 0.8696\n",
      "Epoch 98/150\n",
      "6/6 - 0s - loss: 0.2449 - accuracy: 0.9674 - val_loss: 0.5809 - val_accuracy: 0.8696\n",
      "Epoch 99/150\n",
      "6/6 - 0s - loss: 0.2383 - accuracy: 0.9674 - val_loss: 0.5736 - val_accuracy: 0.8696\n",
      "Epoch 100/150\n",
      "6/6 - 0s - loss: 0.2309 - accuracy: 0.9674 - val_loss: 0.5676 - val_accuracy: 0.8696\n",
      "Epoch 101/150\n",
      "6/6 - 0s - loss: 0.2248 - accuracy: 0.9728 - val_loss: 0.5581 - val_accuracy: 0.8696\n",
      "Epoch 102/150\n",
      "6/6 - 0s - loss: 0.2182 - accuracy: 0.9728 - val_loss: 0.5542 - val_accuracy: 0.8696\n",
      "Epoch 103/150\n",
      "6/6 - 0s - loss: 0.2121 - accuracy: 0.9728 - val_loss: 0.5489 - val_accuracy: 0.8696\n",
      "Epoch 104/150\n",
      "6/6 - 0s - loss: 0.2064 - accuracy: 0.9728 - val_loss: 0.5424 - val_accuracy: 0.8696\n",
      "Epoch 105/150\n",
      "6/6 - 0s - loss: 0.2005 - accuracy: 0.9728 - val_loss: 0.5365 - val_accuracy: 0.8696\n",
      "Epoch 106/150\n",
      "6/6 - 0s - loss: 0.1953 - accuracy: 0.9728 - val_loss: 0.5322 - val_accuracy: 0.8696\n",
      "Epoch 107/150\n",
      "6/6 - 0s - loss: 0.1899 - accuracy: 0.9728 - val_loss: 0.5251 - val_accuracy: 0.8696\n",
      "Epoch 108/150\n",
      "6/6 - 0s - loss: 0.1851 - accuracy: 0.9728 - val_loss: 0.5190 - val_accuracy: 0.8696\n",
      "Epoch 109/150\n",
      "6/6 - 0s - loss: 0.1801 - accuracy: 0.9728 - val_loss: 0.5131 - val_accuracy: 0.8696\n",
      "Epoch 110/150\n",
      "6/6 - 0s - loss: 0.1756 - accuracy: 0.9728 - val_loss: 0.5084 - val_accuracy: 0.8696\n",
      "Epoch 111/150\n",
      "6/6 - 0s - loss: 0.1710 - accuracy: 0.9728 - val_loss: 0.5015 - val_accuracy: 0.8913\n",
      "Epoch 112/150\n",
      "6/6 - 0s - loss: 0.1666 - accuracy: 0.9728 - val_loss: 0.4986 - val_accuracy: 0.8913\n",
      "Epoch 113/150\n",
      "6/6 - 0s - loss: 0.1625 - accuracy: 0.9728 - val_loss: 0.4953 - val_accuracy: 0.8913\n",
      "Epoch 114/150\n",
      "6/6 - 0s - loss: 0.1586 - accuracy: 0.9728 - val_loss: 0.4903 - val_accuracy: 0.8913\n",
      "Epoch 115/150\n",
      "6/6 - 0s - loss: 0.1545 - accuracy: 0.9728 - val_loss: 0.4885 - val_accuracy: 0.8913\n",
      "Epoch 116/150\n",
      "6/6 - 0s - loss: 0.1505 - accuracy: 0.9728 - val_loss: 0.4830 - val_accuracy: 0.8913\n",
      "Epoch 117/150\n",
      "6/6 - 0s - loss: 0.1468 - accuracy: 0.9728 - val_loss: 0.4790 - val_accuracy: 0.8913\n",
      "Epoch 118/150\n",
      "6/6 - 0s - loss: 0.1433 - accuracy: 0.9728 - val_loss: 0.4729 - val_accuracy: 0.8913\n",
      "Epoch 119/150\n",
      "6/6 - 0s - loss: 0.1398 - accuracy: 0.9728 - val_loss: 0.4687 - val_accuracy: 0.8913\n",
      "Epoch 120/150\n",
      "6/6 - 0s - loss: 0.1366 - accuracy: 0.9728 - val_loss: 0.4663 - val_accuracy: 0.8913\n",
      "Epoch 121/150\n",
      "6/6 - 0s - loss: 0.1333 - accuracy: 0.9728 - val_loss: 0.4642 - val_accuracy: 0.8913\n",
      "Epoch 122/150\n",
      "6/6 - 0s - loss: 0.1300 - accuracy: 0.9728 - val_loss: 0.4611 - val_accuracy: 0.8913\n",
      "Epoch 123/150\n",
      "6/6 - 0s - loss: 0.1268 - accuracy: 0.9728 - val_loss: 0.4576 - val_accuracy: 0.8913\n",
      "Epoch 124/150\n",
      "6/6 - 0s - loss: 0.1237 - accuracy: 0.9728 - val_loss: 0.4535 - val_accuracy: 0.8913\n",
      "Epoch 125/150\n",
      "6/6 - 0s - loss: 0.1205 - accuracy: 0.9728 - val_loss: 0.4513 - val_accuracy: 0.8913\n",
      "Epoch 126/150\n",
      "6/6 - 0s - loss: 0.1174 - accuracy: 0.9728 - val_loss: 0.4467 - val_accuracy: 0.8913\n",
      "Epoch 127/150\n",
      "6/6 - 0s - loss: 0.1146 - accuracy: 0.9728 - val_loss: 0.4444 - val_accuracy: 0.8913\n",
      "Epoch 128/150\n",
      "6/6 - 0s - loss: 0.1117 - accuracy: 0.9728 - val_loss: 0.4410 - val_accuracy: 0.8913\n",
      "Epoch 129/150\n",
      "6/6 - 0s - loss: 0.1088 - accuracy: 0.9728 - val_loss: 0.4395 - val_accuracy: 0.8913\n",
      "Epoch 130/150\n",
      "6/6 - 0s - loss: 0.1061 - accuracy: 0.9728 - val_loss: 0.4368 - val_accuracy: 0.8913\n",
      "Epoch 131/150\n",
      "6/6 - 0s - loss: 0.1035 - accuracy: 0.9728 - val_loss: 0.4335 - val_accuracy: 0.8913\n",
      "Epoch 132/150\n",
      "6/6 - 0s - loss: 0.1008 - accuracy: 0.9728 - val_loss: 0.4300 - val_accuracy: 0.8913\n",
      "Epoch 133/150\n",
      "6/6 - 0s - loss: 0.0983 - accuracy: 0.9728 - val_loss: 0.4300 - val_accuracy: 0.8913\n",
      "Epoch 134/150\n",
      "6/6 - 0s - loss: 0.0960 - accuracy: 0.9728 - val_loss: 0.4286 - val_accuracy: 0.8913\n",
      "Epoch 135/150\n",
      "6/6 - 0s - loss: 0.0933 - accuracy: 0.9728 - val_loss: 0.4260 - val_accuracy: 0.8913\n",
      "Epoch 136/150\n",
      "6/6 - 0s - loss: 0.0911 - accuracy: 0.9728 - val_loss: 0.4232 - val_accuracy: 0.8913\n",
      "Epoch 137/150\n",
      "6/6 - 0s - loss: 0.0887 - accuracy: 0.9728 - val_loss: 0.4203 - val_accuracy: 0.8913\n",
      "Epoch 138/150\n",
      "6/6 - 0s - loss: 0.0865 - accuracy: 0.9728 - val_loss: 0.4185 - val_accuracy: 0.8913\n",
      "Epoch 139/150\n",
      "6/6 - 0s - loss: 0.0843 - accuracy: 0.9728 - val_loss: 0.4172 - val_accuracy: 0.8913\n",
      "Epoch 140/150\n",
      "6/6 - 0s - loss: 0.0821 - accuracy: 0.9783 - val_loss: 0.4171 - val_accuracy: 0.8913\n",
      "Epoch 141/150\n",
      "6/6 - 0s - loss: 0.0801 - accuracy: 0.9891 - val_loss: 0.4155 - val_accuracy: 0.8913\n",
      "Epoch 142/150\n",
      "6/6 - 0s - loss: 0.0781 - accuracy: 0.9946 - val_loss: 0.4140 - val_accuracy: 0.8913\n",
      "Epoch 143/150\n",
      "6/6 - 0s - loss: 0.0761 - accuracy: 1.0000 - val_loss: 0.4118 - val_accuracy: 0.8913\n"
     ]
    }
   ],
   "source": [
    "history = model.fit(training_padded, training_labels, epochs=num_epochs, callbacks=callback, validation_data=(testing_padded, testing_labels), verbose=2)"
   ]
  },
  {
   "cell_type": "markdown",
   "metadata": {
    "id": "YpobFofDeajC"
   },
   "source": [
    "Model is build with taining accuracy = 1 and testing accuracy =0.89"
   ]
  },
  {
   "cell_type": "markdown",
   "metadata": {
    "id": "9LXx9EKVW_rz"
   },
   "source": [
    "### Loading Testset"
   ]
  },
  {
   "cell_type": "code",
   "execution_count": 13,
   "metadata": {
    "colab": {
     "base_uri": "https://localhost:8080/",
     "height": 359
    },
    "id": "ZTN8VhEjFnkI",
    "outputId": "f59c18ed-6b08-4575-c4bb-476fc8cdad60"
   },
   "outputs": [
    {
     "data": {
      "text/html": [
       "<div>\n",
       "<style scoped>\n",
       "    .dataframe tbody tr th:only-of-type {\n",
       "        vertical-align: middle;\n",
       "    }\n",
       "\n",
       "    .dataframe tbody tr th {\n",
       "        vertical-align: top;\n",
       "    }\n",
       "\n",
       "    .dataframe thead th {\n",
       "        text-align: right;\n",
       "    }\n",
       "</style>\n",
       "<table border=\"1\" class=\"dataframe\">\n",
       "  <thead>\n",
       "    <tr style=\"text-align: right;\">\n",
       "      <th></th>\n",
       "      <th>Conversation_ID</th>\n",
       "      <th>Conversation</th>\n",
       "      <th>Label</th>\n",
       "    </tr>\n",
       "  </thead>\n",
       "  <tbody>\n",
       "    <tr>\n",
       "      <th>0</th>\n",
       "      <td>2022</td>\n",
       "      <td>i guess that's most of my um financial plans ...</td>\n",
       "      <td>Family Finance</td>\n",
       "    </tr>\n",
       "    <tr>\n",
       "      <th>1</th>\n",
       "      <td>2067</td>\n",
       "      <td>yes everybody in the country is preapproved i...</td>\n",
       "      <td>Credit Card</td>\n",
       "    </tr>\n",
       "    <tr>\n",
       "      <th>2</th>\n",
       "      <td>2085</td>\n",
       "      <td>right because you know i[f]- once you get tha...</td>\n",
       "      <td>Job Benefits</td>\n",
       "    </tr>\n",
       "    <tr>\n",
       "      <th>3</th>\n",
       "      <td>2298</td>\n",
       "      <td>right i don't think there is a i don't know i...</td>\n",
       "      <td>Bank Bailout</td>\n",
       "    </tr>\n",
       "    <tr>\n",
       "      <th>4</th>\n",
       "      <td>3001</td>\n",
       "      <td>didn't get that far you normally just try to ...</td>\n",
       "      <td>Job Benefits</td>\n",
       "    </tr>\n",
       "    <tr>\n",
       "      <th>5</th>\n",
       "      <td>3040</td>\n",
       "      <td>uh both those centers of of business plus eve...</td>\n",
       "      <td>Taxes</td>\n",
       "    </tr>\n",
       "    <tr>\n",
       "      <th>6</th>\n",
       "      <td>3409</td>\n",
       "      <td>right so i guess uh we've kind of exhausted t...</td>\n",
       "      <td>Credit Card</td>\n",
       "    </tr>\n",
       "    <tr>\n",
       "      <th>7</th>\n",
       "      <td>4000</td>\n",
       "      <td>we both have done that um we both work at com...</td>\n",
       "      <td>Family Finance</td>\n",
       "    </tr>\n",
       "    <tr>\n",
       "      <th>8</th>\n",
       "      <td>4044</td>\n",
       "      <td>and we weren't a debtor nation in those days ...</td>\n",
       "      <td>Taxes</td>\n",
       "    </tr>\n",
       "    <tr>\n",
       "      <th>9</th>\n",
       "      <td>4843</td>\n",
       "      <td>uh you know i mean they're treating it as a t...</td>\n",
       "      <td>Budget</td>\n",
       "    </tr>\n",
       "  </tbody>\n",
       "</table>\n",
       "</div>"
      ],
      "text/plain": [
       "   Conversation_ID                                       Conversation  \\\n",
       "0             2022   i guess that's most of my um financial plans ...   \n",
       "1             2067   yes everybody in the country is preapproved i...   \n",
       "2             2085   right because you know i[f]- once you get tha...   \n",
       "3             2298   right i don't think there is a i don't know i...   \n",
       "4             3001   didn't get that far you normally just try to ...   \n",
       "5             3040   uh both those centers of of business plus eve...   \n",
       "6             3409   right so i guess uh we've kind of exhausted t...   \n",
       "7             4000   we both have done that um we both work at com...   \n",
       "8             4044   and we weren't a debtor nation in those days ...   \n",
       "9             4843   uh you know i mean they're treating it as a t...   \n",
       "\n",
       "            Label  \n",
       "0  Family Finance  \n",
       "1     Credit Card  \n",
       "2    Job Benefits  \n",
       "3    Bank Bailout  \n",
       "4    Job Benefits  \n",
       "5           Taxes  \n",
       "6     Credit Card  \n",
       "7  Family Finance  \n",
       "8           Taxes  \n",
       "9          Budget  "
      ]
     },
     "execution_count": 13,
     "metadata": {},
     "output_type": "execute_result"
    }
   ],
   "source": [
    "testset = pd.read_csv('/home/enian/Desktop/IDFY/tagging_test/test/testset.csv', index_col=False)\n",
    "testset"
   ]
  },
  {
   "cell_type": "markdown",
   "metadata": {
    "id": "tpgKkPkvXZqq"
   },
   "source": [
    "### Data Pre-processing of TestSet"
   ]
  },
  {
   "cell_type": "code",
   "execution_count": 14,
   "metadata": {
    "id": "gWdh5RFaF9Je"
   },
   "outputs": [],
   "source": [
    "X_testset = testset['Conversation']\n",
    "\n",
    "X_testset_sequences = tokenizer.texts_to_sequences(X_testset)\n",
    "X_testset_padded = pad_sequences(X_testset_sequences, maxlen=max_length, padding=padding_type, truncating=trunc_type)\n",
    "X_testset_padded = np.array(X_testset_padded)"
   ]
  },
  {
   "cell_type": "markdown",
   "metadata": {
    "id": "IY6hCOIoXrkO"
   },
   "source": [
    "### Model Prediction for TestSet"
   ]
  },
  {
   "cell_type": "code",
   "execution_count": 15,
   "metadata": {
    "id": "xdPlZ3k7G_iK"
   },
   "outputs": [],
   "source": [
    "prediction = model.predict(X_testset_padded) * 100"
   ]
  },
  {
   "cell_type": "markdown",
   "metadata": {},
   "source": [
    "Mapping all predicted values to corresponding labels"
   ]
  },
  {
   "cell_type": "code",
   "execution_count": 16,
   "metadata": {},
   "outputs": [],
   "source": [
    "predicted_values = []\n",
    "\n",
    "for i in range(10):\n",
    "         \n",
    "    dict = {\n",
    "        'Bank Bailout':prediction[i][0],\n",
    "        'Budget':prediction[i][1],\n",
    "        'Credit Card':prediction[i][2],\n",
    "        'Family Finance':prediction[i][3],\n",
    "        'Job Benefits':prediction[i][4],\n",
    "        'Taxes':prediction[i][5]\n",
    "        }\n",
    "    \n",
    "    predicted_values.append(dict)"
   ]
  },
  {
   "cell_type": "markdown",
   "metadata": {},
   "source": [
    "Retriving the predicted label for each instance of the testset"
   ]
  },
  {
   "cell_type": "code",
   "execution_count": 17,
   "metadata": {},
   "outputs": [],
   "source": [
    "pred_list = []\n",
    "\n",
    "for item in predicted_values:\n",
    "    pred_list.append(max(item, key=item.get))  "
   ]
  },
  {
   "cell_type": "markdown",
   "metadata": {},
   "source": [
    "Creating a dataframe with input and output values of the prediction of testset"
   ]
  },
  {
   "cell_type": "code",
   "execution_count": 18,
   "metadata": {
    "scrolled": true
   },
   "outputs": [],
   "source": [
    "prediction_DF = pd.DataFrame(pred_list, columns=['Predicted Label'])\n",
    "prediction_DF['ID'] = testset['Conversation_ID']\n",
    "prediction_DF['Actual Label'] = testset['Label']\n",
    "prediction_DF['Label Probabilities'] = predicted_values\n",
    "prediction_DF = prediction_DF[['ID', 'Actual Label', 'Predicted Label', 'Label Probabilities']]"
   ]
  },
  {
   "cell_type": "code",
   "execution_count": 19,
   "metadata": {},
   "outputs": [],
   "source": [
    "pd.set_option('display.max_colwidth', None) #shows the column entire value "
   ]
  },
  {
   "cell_type": "code",
   "execution_count": 20,
   "metadata": {},
   "outputs": [
    {
     "data": {
      "text/html": [
       "<div>\n",
       "<style scoped>\n",
       "    .dataframe tbody tr th:only-of-type {\n",
       "        vertical-align: middle;\n",
       "    }\n",
       "\n",
       "    .dataframe tbody tr th {\n",
       "        vertical-align: top;\n",
       "    }\n",
       "\n",
       "    .dataframe thead th {\n",
       "        text-align: right;\n",
       "    }\n",
       "</style>\n",
       "<table border=\"1\" class=\"dataframe\">\n",
       "  <thead>\n",
       "    <tr style=\"text-align: right;\">\n",
       "      <th></th>\n",
       "      <th>ID</th>\n",
       "      <th>Actual Label</th>\n",
       "      <th>Predicted Label</th>\n",
       "      <th>Label Probabilities</th>\n",
       "    </tr>\n",
       "  </thead>\n",
       "  <tbody>\n",
       "    <tr>\n",
       "      <th>0</th>\n",
       "      <td>2022</td>\n",
       "      <td>Family Finance</td>\n",
       "      <td>Family Finance</td>\n",
       "      <td>{'Bank Bailout': 0.011287683, 'Budget': 0.014482645, 'Credit Card': 0.4860656, 'Family Finance': 99.08468, 'Job Benefits': 0.18233491, 'Taxes': 0.22114274}</td>\n",
       "    </tr>\n",
       "    <tr>\n",
       "      <th>1</th>\n",
       "      <td>2067</td>\n",
       "      <td>Credit Card</td>\n",
       "      <td>Credit Card</td>\n",
       "      <td>{'Bank Bailout': 3.41153, 'Budget': 8.062574, 'Credit Card': 67.28123, 'Family Finance': 8.516489, 'Job Benefits': 3.656557, 'Taxes': 9.071617}</td>\n",
       "    </tr>\n",
       "    <tr>\n",
       "      <th>2</th>\n",
       "      <td>2085</td>\n",
       "      <td>Job Benefits</td>\n",
       "      <td>Job Benefits</td>\n",
       "      <td>{'Bank Bailout': 1.0361885, 'Budget': 7.8174734, 'Credit Card': 1.7788537, 'Family Finance': 14.409399, 'Job Benefits': 65.41844, 'Taxes': 9.539645}</td>\n",
       "    </tr>\n",
       "    <tr>\n",
       "      <th>3</th>\n",
       "      <td>2298</td>\n",
       "      <td>Bank Bailout</td>\n",
       "      <td>Taxes</td>\n",
       "      <td>{'Bank Bailout': 6.401846, 'Budget': 29.143078, 'Credit Card': 10.029702, 'Family Finance': 3.4768014, 'Job Benefits': 9.856279, 'Taxes': 41.092297}</td>\n",
       "    </tr>\n",
       "    <tr>\n",
       "      <th>4</th>\n",
       "      <td>3001</td>\n",
       "      <td>Job Benefits</td>\n",
       "      <td>Job Benefits</td>\n",
       "      <td>{'Bank Bailout': 0.043779835, 'Budget': 0.52578384, 'Credit Card': 0.31250897, 'Family Finance': 19.525118, 'Job Benefits': 79.14093, 'Taxes': 0.45187894}</td>\n",
       "    </tr>\n",
       "    <tr>\n",
       "      <th>5</th>\n",
       "      <td>3040</td>\n",
       "      <td>Taxes</td>\n",
       "      <td>Taxes</td>\n",
       "      <td>{'Bank Bailout': 2.368572, 'Budget': 13.672005, 'Credit Card': 1.306475, 'Family Finance': 1.2994086, 'Job Benefits': 5.5026546, 'Taxes': 75.85088}</td>\n",
       "    </tr>\n",
       "    <tr>\n",
       "      <th>6</th>\n",
       "      <td>3409</td>\n",
       "      <td>Credit Card</td>\n",
       "      <td>Credit Card</td>\n",
       "      <td>{'Bank Bailout': 1.3731953, 'Budget': 2.0076926, 'Credit Card': 76.40156, 'Family Finance': 12.715876, 'Job Benefits': 1.4372394, 'Taxes': 6.064428}</td>\n",
       "    </tr>\n",
       "    <tr>\n",
       "      <th>7</th>\n",
       "      <td>4000</td>\n",
       "      <td>Family Finance</td>\n",
       "      <td>Family Finance</td>\n",
       "      <td>{'Bank Bailout': 0.484196, 'Budget': 1.106208, 'Credit Card': 7.45833, 'Family Finance': 81.95137, 'Job Benefits': 4.5150476, 'Taxes': 4.4848385}</td>\n",
       "    </tr>\n",
       "    <tr>\n",
       "      <th>8</th>\n",
       "      <td>4044</td>\n",
       "      <td>Taxes</td>\n",
       "      <td>Taxes</td>\n",
       "      <td>{'Bank Bailout': 2.284034, 'Budget': 12.104473, 'Credit Card': 5.1391473, 'Family Finance': 3.7382405, 'Job Benefits': 8.386948, 'Taxes': 68.34715}</td>\n",
       "    </tr>\n",
       "    <tr>\n",
       "      <th>9</th>\n",
       "      <td>4843</td>\n",
       "      <td>Budget</td>\n",
       "      <td>Taxes</td>\n",
       "      <td>{'Bank Bailout': 4.0894427, 'Budget': 16.026861, 'Credit Card': 4.833179, 'Family Finance': 2.060556, 'Job Benefits': 3.0100923, 'Taxes': 69.97987}</td>\n",
       "    </tr>\n",
       "  </tbody>\n",
       "</table>\n",
       "</div>"
      ],
      "text/plain": [
       "     ID    Actual Label Predicted Label  \\\n",
       "0  2022  Family Finance  Family Finance   \n",
       "1  2067     Credit Card     Credit Card   \n",
       "2  2085    Job Benefits    Job Benefits   \n",
       "3  2298    Bank Bailout           Taxes   \n",
       "4  3001    Job Benefits    Job Benefits   \n",
       "5  3040           Taxes           Taxes   \n",
       "6  3409     Credit Card     Credit Card   \n",
       "7  4000  Family Finance  Family Finance   \n",
       "8  4044           Taxes           Taxes   \n",
       "9  4843          Budget           Taxes   \n",
       "\n",
       "                                                                                                                                           Label Probabilities  \n",
       "0  {'Bank Bailout': 0.011287683, 'Budget': 0.014482645, 'Credit Card': 0.4860656, 'Family Finance': 99.08468, 'Job Benefits': 0.18233491, 'Taxes': 0.22114274}  \n",
       "1              {'Bank Bailout': 3.41153, 'Budget': 8.062574, 'Credit Card': 67.28123, 'Family Finance': 8.516489, 'Job Benefits': 3.656557, 'Taxes': 9.071617}  \n",
       "2         {'Bank Bailout': 1.0361885, 'Budget': 7.8174734, 'Credit Card': 1.7788537, 'Family Finance': 14.409399, 'Job Benefits': 65.41844, 'Taxes': 9.539645}  \n",
       "3         {'Bank Bailout': 6.401846, 'Budget': 29.143078, 'Credit Card': 10.029702, 'Family Finance': 3.4768014, 'Job Benefits': 9.856279, 'Taxes': 41.092297}  \n",
       "4   {'Bank Bailout': 0.043779835, 'Budget': 0.52578384, 'Credit Card': 0.31250897, 'Family Finance': 19.525118, 'Job Benefits': 79.14093, 'Taxes': 0.45187894}  \n",
       "5          {'Bank Bailout': 2.368572, 'Budget': 13.672005, 'Credit Card': 1.306475, 'Family Finance': 1.2994086, 'Job Benefits': 5.5026546, 'Taxes': 75.85088}  \n",
       "6         {'Bank Bailout': 1.3731953, 'Budget': 2.0076926, 'Credit Card': 76.40156, 'Family Finance': 12.715876, 'Job Benefits': 1.4372394, 'Taxes': 6.064428}  \n",
       "7            {'Bank Bailout': 0.484196, 'Budget': 1.106208, 'Credit Card': 7.45833, 'Family Finance': 81.95137, 'Job Benefits': 4.5150476, 'Taxes': 4.4848385}  \n",
       "8          {'Bank Bailout': 2.284034, 'Budget': 12.104473, 'Credit Card': 5.1391473, 'Family Finance': 3.7382405, 'Job Benefits': 8.386948, 'Taxes': 68.34715}  \n",
       "9          {'Bank Bailout': 4.0894427, 'Budget': 16.026861, 'Credit Card': 4.833179, 'Family Finance': 2.060556, 'Job Benefits': 3.0100923, 'Taxes': 69.97987}  "
      ]
     },
     "execution_count": 20,
     "metadata": {},
     "output_type": "execute_result"
    }
   ],
   "source": [
    "prediction_DF "
   ]
  }
 ],
 "metadata": {
  "accelerator": "GPU",
  "colab": {
   "collapsed_sections": [],
   "name": "Tag_conversations.ipynb",
   "provenance": []
  },
  "kernelspec": {
   "display_name": "Python 3",
   "language": "python",
   "name": "python3"
  },
  "language_info": {
   "codemirror_mode": {
    "name": "ipython",
    "version": 3
   },
   "file_extension": ".py",
   "mimetype": "text/x-python",
   "name": "python",
   "nbconvert_exporter": "python",
   "pygments_lexer": "ipython3",
   "version": "3.7.6"
  }
 },
 "nbformat": 4,
 "nbformat_minor": 1
}
